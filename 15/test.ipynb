{
 "cells": [
  {
   "cell_type": "code",
   "execution_count": 1,
   "metadata": {},
   "outputs": [],
   "source": [
    "import numpy as np\n",
    "import pandas as pd\n",
    "from sklearn.metrics.pairwise import cosine_similarity"
   ]
  },
  {
   "cell_type": "markdown",
   "metadata": {},
   "source": [
    "### User-based collaborative filter"
   ]
  },
  {
   "cell_type": "code",
   "execution_count": 2,
   "metadata": {},
   "outputs": [],
   "source": [
    "class CF(object):\n",
    "    def __init__(self, R, k):\n",
    "        self.ori_data = R.copy()\n",
    "        self.data = R.astype(np.float64)\n",
    "        self.n, self.m = self.data.shape\n",
    "        self.kneighbors = k\n",
    "    \n",
    "    def __normalize(self):\n",
    "        self.col_means = np.nanmean(self.data, axis=0)\n",
    "        nan_indices = np.isnan(self.data)\n",
    "        self.data -= self.col_means\n",
    "        self.data[nan_indices] = 0\n",
    "\n",
    "    def __similarity(self):\n",
    "        self.S = cosine_similarity(self.data.T)\n",
    "\n",
    "    def fit(self):\n",
    "        self.__normalize()\n",
    "        self.__similarity()\n",
    "    \n",
    "    def predict(self, u, i):\n",
    "        similiar_users = np.argsort(self.S[u])[::-1][1:self.kneighbors+1]\n",
    "        users_with_rating = [v for v in similiar_users if not np.isnan(self.ori_data[i, v])]\n",
    "        \n",
    "        weighted_sum = np.sum([self.S[u, v] * self.data[i, v] for v in users_with_rating])\n",
    "        sum_of_weights = np.sum([np.abs(self.S[u, v]) for v in users_with_rating]) + 1e8\n",
    "        \n",
    "        return weighted_sum / sum_of_weights + self.col_means[u]\n",
    "\n",
    "    def recommend(self, u):\n",
    "        recommended_items = []\n",
    "        for i in range(self.n):\n",
    "            if np.isnan(self.ori_data[i, u]):\n",
    "                rating = self.predict(u, i)\n",
    "                if rating > 0:\n",
    "                    recommended_items.append(i)\n",
    "        return recommended_items\n"
   ]
  },
  {
   "cell_type": "markdown",
   "metadata": {},
   "source": [
    "### Item-based collaborative filter"
   ]
  },
  {
   "cell_type": "code",
   "execution_count": 13,
   "metadata": {},
   "outputs": [],
   "source": [
    "class CF(object):\n",
    "    def __init__(self, R, k):\n",
    "        self.ori_data = R.copy()\n",
    "        self.data = R.copy()\n",
    "        self.n, self.m = self.data.shape\n",
    "        self.kneighbors = k\n",
    "    \n",
    "    def __normalize(self):\n",
    "        self.row_means = np.nanmean(self.data, axis=1)\n",
    "        nan_indices = np.isnan(self.data)\n",
    "        self.data -= self.row_means[:, np.newaxis]\n",
    "        self.data[nan_indices] = 0\n",
    "\n",
    "    def __similarity(self):\n",
    "        self.S = cosine_similarity(self.data)\n",
    "\n",
    "    def fit(self):\n",
    "        self.__normalize()\n",
    "        self.__similarity()\n",
    "    \n",
    "    def predict(self, u, i):\n",
    "        similiar_items = np.argsort(self.S[i])[::-1][1:self.kneighbors+1]\n",
    "        rated_items = [v for v in similiar_items if not np.isnan(self.ori_data[v, u])]\n",
    "        \n",
    "        weighted_sum = np.sum([self.S[i, v] * self.data[v, u] for v in rated_items])\n",
    "        sum_of_weights = np.sum([np.abs(self.S[i, v]) for v in rated_items]) + 1e-8\n",
    "        \n",
    "        return weighted_sum / sum_of_weights + self.row_means[i]\n",
    "\n",
    "    def recommend(self, u):\n",
    "        recommended_items = []\n",
    "        for i in range(self.n):\n",
    "            if np.isnan(self.ori_data[i, u]):\n",
    "                rating = self.predict(u, i)\n",
    "                if rating > 0:\n",
    "                    recommended_items.append(i)\n",
    "        return recommended_items"
   ]
  },
  {
   "cell_type": "markdown",
   "metadata": {},
   "source": [
    "### Load the MovieLens data"
   ]
  },
  {
   "cell_type": "code",
   "execution_count": null,
   "metadata": {},
   "outputs": [],
   "source": [
    "# Download MovieLens data.\n",
    "print(\"Downloading movielens data...\")\n",
    "from urllib.request import urlretrieve\n",
    "import zipfile\n",
    "\n",
    "urlretrieve(\"http://files.grouplens.org/datasets/movielens/ml-100k.zip\", \"movielens.zip\")\n",
    "zip_ref = zipfile.ZipFile('movielens.zip', \"r\")\n",
    "zip_ref.extractall()\n",
    "print(\"Done. Dataset contains:\")\n",
    "print(zip_ref.read('ml-100k/u.info'))"
   ]
  },
  {
   "cell_type": "code",
   "execution_count": 16,
   "metadata": {},
   "outputs": [
    {
     "name": "stdout",
     "output_type": "stream",
     "text": [
      "\n",
      " testing data:\n",
      "User_id   1    2    3    4    5    6    7    8    9    10   ...  934  935  \\\n",
      "Movie_id                                                    ...             \n",
      "1         NaN  NaN  NaN  NaN  NaN  NaN  NaN  NaN  NaN  NaN  ...  NaN  NaN   \n",
      "2         NaN  NaN  NaN  NaN  NaN  NaN  NaN  NaN  NaN  NaN  ...  NaN  NaN   \n",
      "3         NaN  NaN  NaN  NaN  NaN  NaN  NaN  NaN  NaN  NaN  ...  NaN  NaN   \n",
      "4         NaN  NaN  NaN  NaN  NaN  NaN  NaN  NaN  NaN  NaN  ...  NaN  NaN   \n",
      "5         NaN  NaN  NaN  NaN  NaN  NaN  NaN  NaN  NaN  NaN  ...  NaN  NaN   \n",
      "...       ...  ...  ...  ...  ...  ...  ...  ...  ...  ...  ...  ...  ...   \n",
      "1624      NaN  NaN  NaN  NaN  NaN  NaN  NaN  NaN  NaN  NaN  ...  NaN  NaN   \n",
      "1652      NaN  NaN  NaN  NaN  NaN  NaN  NaN  NaN  NaN  NaN  ...  NaN  NaN   \n",
      "1654      NaN  NaN  NaN  NaN  NaN  NaN  NaN  NaN  NaN  NaN  ...  NaN  NaN   \n",
      "1658      NaN  NaN  NaN  NaN  NaN  NaN  NaN  NaN  NaN  NaN  ...  NaN  NaN   \n",
      "1661      NaN  NaN  NaN  NaN  NaN  NaN  NaN  NaN  NaN  NaN  ...  NaN  NaN   \n",
      "\n",
      "User_id   936  937  938  939  940  941  942  943  \n",
      "Movie_id                                          \n",
      "1         NaN  NaN  NaN  NaN  NaN  5.0  NaN  NaN  \n",
      "2         NaN  NaN  NaN  NaN  NaN  NaN  NaN  NaN  \n",
      "3         NaN  NaN  NaN  NaN  NaN  NaN  NaN  NaN  \n",
      "4         NaN  NaN  NaN  NaN  NaN  NaN  NaN  NaN  \n",
      "5         NaN  NaN  NaN  NaN  NaN  NaN  NaN  NaN  \n",
      "...       ...  ...  ...  ...  ...  ...  ...  ...  \n",
      "1624      NaN  NaN  NaN  NaN  NaN  NaN  NaN  NaN  \n",
      "1652      NaN  NaN  NaN  NaN  NaN  NaN  NaN  NaN  \n",
      "1654      NaN  NaN  NaN  NaN  NaN  NaN  NaN  NaN  \n",
      "1658      NaN  NaN  NaN  NaN  NaN  NaN  NaN  NaN  \n",
      "1661      NaN  NaN  NaN  NaN  NaN  NaN  NaN  NaN  \n",
      "\n",
      "[1145 rows x 943 columns]\n"
     ]
    }
   ],
   "source": [
    "# Load data\n",
    "columns = ['User_id', 'Movie_id', 'Rating', 'timestamp']\n",
    "\n",
    "test_data = pd.read_csv('ml-100k/ub.test', sep='\\t', names=columns, encoding='latin-1')\n",
    "\n",
    "# Convert train and test data into dense tables\n",
    "testing_data = test_data.pivot(index='Movie_id', columns='User_id', values='Rating').values\n",
    "\n",
    "print('\\n testing data:')\n",
    "print(testing_data)"
   ]
  },
  {
   "cell_type": "code",
   "execution_count": 18,
   "metadata": {},
   "outputs": [
    {
     "name": "stdout",
     "output_type": "stream",
     "text": [
      "\n",
      " testing data:\n",
      "[[nan nan nan ...  5. nan nan]\n",
      " [nan nan nan ... nan nan nan]\n",
      " [nan nan nan ... nan nan nan]\n",
      " ...\n",
      " [nan nan nan ... nan nan nan]\n",
      " [nan nan nan ... nan nan nan]\n",
      " [nan nan nan ... nan nan nan]]\n"
     ]
    }
   ],
   "source": [
    "columns = ['User_id', 'Movie_id', 'Rating', 'timestamp']\n",
    "\n",
    "test_data = pd.read_csv('ml-100k/ub.test', sep='\\t', names=columns, encoding='latin-1')\n",
    "\n",
    "# Initialize a numpy array with zeros\n",
    "num_users = test_data['User_id'].nunique()\n",
    "num_movies = test_data['Movie_id'].nunique()\n",
    "testing_data = np.full((1682, 943), np.nan)\n",
    "\n",
    "# Fill in the data from test_data\n",
    "for row in test_data.values:\n",
    "    user_id = row[0] - 1  # Subtract 1 to match zero-based indexing\n",
    "    movie_id = row[1] - 1  # Subtract 1 to match zero-based indexing\n",
    "    rating = row[2]\n",
    "    testing_data[movie_id][user_id] = rating\n",
    "\n",
    "print('\\n testing data:')\n",
    "print(testing_data)"
   ]
  },
  {
   "cell_type": "markdown",
   "metadata": {},
   "source": [
    "### Output with user-user CF"
   ]
  },
  {
   "cell_type": "code",
   "execution_count": 12,
   "metadata": {},
   "outputs": [
    {
     "name": "stdout",
     "output_type": "stream",
     "text": [
      "User-user CF, RMSE = 1.0292143212378009\n"
     ]
    }
   ],
   "source": [
    "rs = CF(testing_data, k = 40)\n",
    "rs.fit()\n",
    "\n",
    "n_tests = test_data.shape[0]\n",
    "SE = 0\n",
    "for n in test_data.values:\n",
    "    pred = rs.predict(n[0]-1, n[1]-1)\n",
    "    SE += (pred - n[2])**2\n",
    "\n",
    "RMSE = np.sqrt(SE / n_tests)\n",
    "print('User-user CF, RMSE =', RMSE)"
   ]
  },
  {
   "cell_type": "markdown",
   "metadata": {},
   "source": [
    "### Output with item-item CF"
   ]
  },
  {
   "cell_type": "code",
   "execution_count": 19,
   "metadata": {},
   "outputs": [
    {
     "name": "stderr",
     "output_type": "stream",
     "text": [
      "/tmp/ipykernel_6256/1905198022.py:9: RuntimeWarning: Mean of empty slice\n",
      "  self.row_means = np.nanmean(self.data, axis=1)\n"
     ]
    },
    {
     "name": "stdout",
     "output_type": "stream",
     "text": [
      "Item-item CF, RMSE = 0.6969518789167193\n"
     ]
    }
   ],
   "source": [
    "rs = CF(testing_data, k = 40)\n",
    "rs.fit()\n",
    "\n",
    "n_tests = test_data.shape[0]\n",
    "SE = 0\n",
    "for n in test_data.values:\n",
    "    pred = rs.predict(n[0]-1, n[1]-1)\n",
    "    SE += (pred - n[2])**2\n",
    "\n",
    "RMSE = np.sqrt(SE / n_tests)\n",
    "print('Item-item CF, RMSE =', RMSE)"
   ]
  }
 ],
 "metadata": {
  "kernelspec": {
   "display_name": ".venv",
   "language": "python",
   "name": "python3"
  },
  "language_info": {
   "codemirror_mode": {
    "name": "ipython",
    "version": 3
   },
   "file_extension": ".py",
   "mimetype": "text/x-python",
   "name": "python",
   "nbconvert_exporter": "python",
   "pygments_lexer": "ipython3",
   "version": "3.10.12"
  }
 },
 "nbformat": 4,
 "nbformat_minor": 2
}
